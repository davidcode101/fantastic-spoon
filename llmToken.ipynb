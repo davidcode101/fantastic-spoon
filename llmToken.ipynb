{
  "nbformat": 4,
  "nbformat_minor": 0,
  "metadata": {
    "colab": {
      "provenance": [],
      "mount_file_id": "1w_s2h79sRqHR3DDdiHPrLNVSRPRE5bDl",
      "authorship_tag": "ABX9TyMsWEgl1/I0Y0tz3MIhsU6P",
      "include_colab_link": true
    },
    "kernelspec": {
      "name": "python3",
      "display_name": "Python 3"
    },
    "language_info": {
      "name": "python"
    }
  },
  "cells": [
    {
      "cell_type": "markdown",
      "metadata": {
        "id": "view-in-github",
        "colab_type": "text"
      },
      "source": [
        "<a href=\"https://colab.research.google.com/github/davidcode101/fantastic-spoon/blob/main/llmToken.ipynb\" target=\"_parent\"><img src=\"https://colab.research.google.com/assets/colab-badge.svg\" alt=\"Open In Colab\"/></a>"
      ]
    },
    {
      "cell_type": "code",
      "execution_count": 147,
      "metadata": {
        "colab": {
          "base_uri": "https://localhost:8080/"
        },
        "id": "s46fCQ15CQpV",
        "outputId": "0e8e625e-28c9-48fa-9c30-d24e01acf45b"
      },
      "outputs": [
        {
          "output_type": "stream",
          "name": "stdout",
          "text": [
            "total number of character 236864\n",
            "\f\f\n",
            "\f\fChapter One\n",
            "\n",
            "Dream\n",
            "A nostalgic voice and scent. Cherished light and warmth.\n",
            "I’m pressed against\n",
            "236864\n"
          ]
        }
      ],
      "source": [
        "with open (\"/content/drive/MyDrive/Data for llm/TXT data/Kimi no Na wa [Yen Press].txt\",\"r\",encoding=\"utf-8\") as f:\n",
        "    raw_text = f.read()\n",
        "print(\"total number of character\",len(raw_text))\n",
        "print(raw_text[:100])\n",
        "print(len(raw_text))"
      ]
    },
    {
      "cell_type": "code",
      "source": [
        "import re\n",
        "text=\"hello, this is ritik. testing token creating\"\n",
        "result=re.split(r'(\\s)',text)\n",
        "print(result)"
      ],
      "metadata": {
        "colab": {
          "base_uri": "https://localhost:8080/"
        },
        "id": "5iYDyhjVJaVg",
        "outputId": "cd5e99b9-dec1-4f79-bf6a-4ffe50886071"
      },
      "execution_count": 9,
      "outputs": [
        {
          "output_type": "stream",
          "name": "stdout",
          "text": [
            "['hello,', ' ', 'this', ' ', 'is', ' ', 'ritik.', ' ', 'testing', ' ', 'token', ' ', 'creating']\n"
          ]
        }
      ]
    },
    {
      "cell_type": "code",
      "source": [
        "\n",
        "result=re.split(r'([,.]|\\s)',text)\n",
        "print(result)"
      ],
      "metadata": {
        "colab": {
          "base_uri": "https://localhost:8080/"
        },
        "id": "xPJadr0iKRB7",
        "outputId": "f0c1a85e-e1e6-4084-d0f3-1f004872c51b"
      },
      "execution_count": 18,
      "outputs": [
        {
          "output_type": "stream",
          "name": "stdout",
          "text": [
            "['Hi', ',', '', ' ', 'This', ' ', 'is', ' ', 'Ritik', '.', '', ' ', 'Is', ' ', 'this--', ' ', 'a', ' ', 'good!', ' ', 'test?', ' ', '']\n"
          ]
        }
      ]
    },
    {
      "cell_type": "code",
      "source": [
        "result=[item for item in result if item.strip()]\n",
        "print(result)"
      ],
      "metadata": {
        "colab": {
          "base_uri": "https://localhost:8080/"
        },
        "id": "70yhQ1B6KpE6",
        "outputId": "610c0f10-7700-4b69-a302-f3f83282ced9"
      },
      "execution_count": 22,
      "outputs": [
        {
          "output_type": "stream",
          "name": "stdout",
          "text": [
            "['Hi', ',', 'This', 'is', 'Ritik', '.', 'Is', 'this', '--', 'a', 'good', '!', 'test', '?']\n"
          ]
        }
      ]
    },
    {
      "cell_type": "code",
      "source": [
        "text=\"Hi, This is Ritik. Is this-- a good! test? \"\n",
        "result=re.split(r'([,.;:?_!\"()\\']|--|\\s)',text)\n",
        "result=[item.strip() for item in result if item.strip()]\n",
        "print(result)"
      ],
      "metadata": {
        "id": "e7pFvCRCLUvX",
        "colab": {
          "base_uri": "https://localhost:8080/"
        },
        "outputId": "6c53fe52-e0a9-44b9-aa86-de24b2b47b2f"
      },
      "execution_count": 21,
      "outputs": [
        {
          "output_type": "stream",
          "name": "stdout",
          "text": [
            "['Hi', ',', 'This', 'is', 'Ritik', '.', 'Is', 'this', '--', 'a', 'good', '!', 'test', '?']\n"
          ]
        }
      ]
    },
    {
      "cell_type": "code",
      "source": [
        "preprocessed=re.split(r'([,...;:?_!\"()\\']|-|\\s)',raw_text)\n",
        "preprocessed=[item.strip() for item in preprocessed if item.strip()]\n",
        "print(preprocessed[:23])"
      ],
      "metadata": {
        "colab": {
          "base_uri": "https://localhost:8080/"
        },
        "id": "l6WoPHH2VL4I",
        "outputId": "8279fc74-2114-4437-902d-92a302f8b33c"
      },
      "execution_count": 36,
      "outputs": [
        {
          "output_type": "stream",
          "name": "stdout",
          "text": [
            "['Chapter', 'One', 'Dream', 'A', 'nostalgic', 'voice', 'and', 'scent', '.', 'Cherished', 'light', 'and', 'warmth', '.', 'I’m', 'pressed', 'against', 'someone', 'very', 'special', 'to', 'me', ',']\n"
          ]
        }
      ]
    },
    {
      "cell_type": "code",
      "source": [
        "print(len(preprocessed))\n",
        "print(len(raw_text))"
      ],
      "metadata": {
        "colab": {
          "base_uri": "https://localhost:8080/"
        },
        "id": "vY-o6tVKV7ms",
        "outputId": "824cc3e5-cff5-431f-b90e-ad6741efd8e1"
      },
      "execution_count": 37,
      "outputs": [
        {
          "output_type": "stream",
          "name": "stdout",
          "text": [
            "51629\n",
            "236864\n"
          ]
        }
      ]
    },
    {
      "cell_type": "code",
      "source": [
        "all_words=sorted(set(preprocessed))\n",
        "vocab_size=len(all_words)\n",
        "print(vocab_size)"
      ],
      "metadata": {
        "colab": {
          "base_uri": "https://localhost:8080/"
        },
        "id": "mUQOORkMZE7e",
        "outputId": "8a9c76d0-6c6d-4dc9-d127-73b59859b412"
      },
      "execution_count": 40,
      "outputs": [
        {
          "output_type": "stream",
          "name": "stdout",
          "text": [
            "6648\n"
          ]
        }
      ]
    },
    {
      "cell_type": "code",
      "source": [
        "vocab={token:Integer for Integer,token in enumerate(all_words)}"
      ],
      "metadata": {
        "id": "PGbimW7IZ0Ju"
      },
      "execution_count": 41,
      "outputs": []
    },
    {
      "cell_type": "code",
      "source": [
        "for i, item in enumerate(vocab.items()):\n",
        "  print(item)\n",
        "  if i >= 5:\n",
        "    break"
      ],
      "metadata": {
        "colab": {
          "base_uri": "https://localhost:8080/"
        },
        "id": "pkQVEY38aHOp",
        "outputId": "c7fc6b18-fdb6-489f-8a6b-932c493573fc"
      },
      "execution_count": 44,
      "outputs": [
        {
          "output_type": "stream",
          "name": "stdout",
          "text": [
            "('!', 0)\n",
            "('#1>', 1)\n",
            "('(', 2)\n",
            "(')', 3)\n",
            "(',', 4)\n",
            "('-', 5)\n"
          ]
        }
      ]
    },
    {
      "cell_type": "code",
      "source": [
        "class tokenMarkv1:\n",
        "  def __init__(self,vocab):\n",
        "    self.str_to_int=vocab\n",
        "    self.int_to_str={i:s for s,i in vocab.items()}\n",
        "\n",
        "  def encode(self,raw_text):\n",
        "    preprocessed=re.split(r'([,...;:?_!\"()\\']|--|\\s)',raw_text1)\n",
        "    preprocessed=[item.strip() for  item in preprocessed if item.strip()]\n",
        "    ids=[self.str_to_int[s] for s in preprocessed]\n",
        "    return ids\n",
        "\n",
        "  def decode(self,ids):\n",
        "    raw_text=\" \".join([self.int_to_str[i] for i in ids])\n",
        "    #replace spaces before the specified punctuations\n",
        "    raw_text=re.sub(r'\\s+([,.?!\"()\\'])',r'\\1',raw_text1)\n",
        "    return raw_text\n"
      ],
      "metadata": {
        "id": "592eH7gTdV4q"
      },
      "execution_count": 73,
      "outputs": []
    },
    {
      "cell_type": "code",
      "source": [
        "tokenizer = tokenMarkv1(vocab)\n",
        "raw_text1=\"\"\"Now somebody’s calling my name. It’s a girl’s voice…… A girl?\n",
        "        “Taki, Taki.”\"\"\"\n",
        "ids = tokenizer.encode(raw_text1)\n",
        "print(ids)"
      ],
      "metadata": {
        "colab": {
          "base_uri": "https://localhost:8080/"
        },
        "id": "pqNEwOEffT1F",
        "outputId": "a7bffce8-a58a-4aca-be96-c2834401727d"
      },
      "execution_count": 154,
      "outputs": [
        {
          "output_type": "stream",
          "name": "stdout",
          "text": [
            "[515, 5048, 1520, 3807, 3814, 6, 368, 898, 2767, 5904, 32, 2763, 31, 6427, 4, 720, 6, 6608]\n"
          ]
        }
      ]
    },
    {
      "cell_type": "code",
      "source": [
        "tokenizer.decode(ids)"
      ],
      "metadata": {
        "colab": {
          "base_uri": "https://localhost:8080/",
          "height": 35
        },
        "id": "dxnjSvf_iBMi",
        "outputId": "035c56c9-a15b-4eea-a8fb-686beb64b0ca"
      },
      "execution_count": 156,
      "outputs": [
        {
          "output_type": "execute_result",
          "data": {
            "text/plain": [
              "'Now somebody’s calling my name. It’s a girl’s voice…… A girl? “Taki, Taki. ”'"
            ],
            "application/vnd.google.colaboratory.intrinsic+json": {
              "type": "string"
            }
          },
          "metadata": {},
          "execution_count": 156
        }
      ]
    },
    {
      "cell_type": "code",
      "source": [
        "all_tokens=sorted(list(set(preprocessed)))\n",
        "all_tokens.extend([\"<|endoftext|>\",\"<|unk|>\"])\n",
        "vocab={token:Integer for Integer,token in enumerate(all_tokens)}\n",
        "len(vocab.items())"
      ],
      "metadata": {
        "colab": {
          "base_uri": "https://localhost:8080/"
        },
        "id": "n2HoSH4UleHJ",
        "outputId": "eade15d8-2e12-4e06-fb9d-c2b315a5b843"
      },
      "execution_count": 157,
      "outputs": [
        {
          "output_type": "execute_result",
          "data": {
            "text/plain": [
              "6650"
            ]
          },
          "metadata": {},
          "execution_count": 157
        }
      ]
    },
    {
      "cell_type": "code",
      "source": [
        "for i,item in enumerate(list(vocab.items())[-5:]):\n",
        "  print(item)"
      ],
      "metadata": {
        "colab": {
          "base_uri": "https://localhost:8080/"
        },
        "id": "pYGusZjAl_7b",
        "outputId": "c890a7f0-33fe-4be0-83b2-686208f3caf5"
      },
      "execution_count": 158,
      "outputs": [
        {
          "output_type": "stream",
          "name": "stdout",
          "text": [
            "('……………', 6645)\n",
            "('………………', 6646)\n",
            "('………………………', 6647)\n",
            "('<|endoftext|>', 6648)\n",
            "('<|unk|>', 6649)\n"
          ]
        }
      ]
    },
    {
      "cell_type": "code",
      "source": [
        "class tokenMarkv2:\n",
        "  def __init__(self,vocab):\n",
        "    self.str_to_int=vocab\n",
        "    self.int_to_str={i:s for s,i in vocab.items()}\n",
        "\n",
        "  def encode(self,raw_text):\n",
        "    preprocessed=re.split(r'([,...;:?_!\"()\\']|--|\\s)',raw_text1)\n",
        "    preprocessed=[item.strip() for  item in preprocessed if item.strip()]\n",
        "    preprocessed=[item if item in self.str_to_int else \"<|unk|>\" for item in preprocessed]\n",
        "    ids=[self.str_to_int[s] for s in preprocessed]\n",
        "    return ids\n",
        "\n",
        "  def decode(self,ids):\n",
        "    raw_text=\" \".join([self.int_to_str[i] for i in ids])\n",
        "    #replace spaces before the specified punctuations\n",
        "    raw_text=re.sub(r'\\s+([,.?!\"()\\'])',r'\\1',raw_text1)\n",
        "    return raw_text"
      ],
      "metadata": {
        "id": "RZBvlqDwmv71"
      },
      "execution_count": 161,
      "outputs": []
    },
    {
      "cell_type": "code",
      "source": [
        "tokenizer=tokenMarkv2(vocab)\n",
        "text1=\"Quizzical wombats juggled fuzzy kiwis, perplexing famously grumpy badgers.\"\n",
        "text2=\"Geopolitical tensions escalate whenever diplomatic negotiations falter, threatening global stability.\"\n",
        "text=\" <|endoftext|> \".join((text1, text2))\n",
        "print(text)"
      ],
      "metadata": {
        "colab": {
          "base_uri": "https://localhost:8080/"
        },
        "id": "ciC2qsLZnO4x",
        "outputId": "294e9453-7745-4cc8-8b5f-147bbe88c0ae"
      },
      "execution_count": 160,
      "outputs": [
        {
          "output_type": "stream",
          "name": "stdout",
          "text": [
            "Quizzical wombats juggled fuzzy kiwis, perplexing famously grumpy badgers. <|endoftext|> Geopolitical tensions escalate whenever diplomatic negotiations falter, threatening global stability.\n"
          ]
        }
      ]
    },
    {
      "cell_type": "code",
      "source": [
        "tokenizer.encode(text)"
      ],
      "metadata": {
        "colab": {
          "base_uri": "https://localhost:8080/"
        },
        "id": "Htc1-X8eo9ZF",
        "outputId": "89cbd42c-5aa8-468e-e8b4-020282b99c52"
      },
      "execution_count": 162,
      "outputs": [
        {
          "output_type": "execute_result",
          "data": {
            "text/plain": [
              "[6649,\n",
              " 6649,\n",
              " 6649,\n",
              " 6649,\n",
              " 6649,\n",
              " 4,\n",
              " 6649,\n",
              " 6649,\n",
              " 6649,\n",
              " 6649,\n",
              " 6,\n",
              " 6648,\n",
              " 6649,\n",
              " 6649,\n",
              " 6649,\n",
              " 6649,\n",
              " 6649,\n",
              " 6649,\n",
              " 2470,\n",
              " 4,\n",
              " 6649,\n",
              " 6649,\n",
              " 6649,\n",
              " 6]"
            ]
          },
          "metadata": {},
          "execution_count": 162
        }
      ]
    },
    {
      "cell_type": "code",
      "source": [
        "tokenizer.decode(tokenizer.encode(text))"
      ],
      "metadata": {
        "colab": {
          "base_uri": "https://localhost:8080/",
          "height": 54
        },
        "id": "lUjTFvDIpoMn",
        "outputId": "f0e1c868-521e-4d9e-f965-ebf5c5890f71"
      },
      "execution_count": 91,
      "outputs": [
        {
          "output_type": "execute_result",
          "data": {
            "text/plain": [
              "'<|unk|> <|unk|> <|unk|> <|unk|> <|unk|>, <|unk|> <|unk|> <|unk|> <|unk|>. <|endoftext|> <|unk|> <|unk|> <|unk|> <|unk|> <|unk|> <|unk|> falter, <|unk|> <|unk|> <|unk|>.'"
            ],
            "application/vnd.google.colaboratory.intrinsic+json": {
              "type": "string"
            }
          },
          "metadata": {},
          "execution_count": 91
        }
      ]
    },
    {
      "cell_type": "markdown",
      "source": [
        "\n",
        "\n",
        "```\n",
        "# This is BPE using tiktoken\n",
        "```\n",
        "\n"
      ],
      "metadata": {
        "id": "FimhFSE55mc4"
      }
    },
    {
      "cell_type": "code",
      "source": [
        "import tiktoken\n",
        "tokenizer=tiktoken.get_encoding(\"cl100k_base\")\n",
        "# tokenizer=tiktoken.get_encoding(\"gpt2\") for comparing\n",
        "print(len(tokenizer._mergeable_ranks))"
      ],
      "metadata": {
        "colab": {
          "base_uri": "https://localhost:8080/"
        },
        "id": "btHfEMM75ron",
        "outputId": "4ad18f86-dc95-43ac-9754-ceefd91d5529"
      },
      "execution_count": 184,
      "outputs": [
        {
          "output_type": "stream",
          "name": "stdout",
          "text": [
            "100256\n"
          ]
        }
      ]
    },
    {
      "cell_type": "code",
      "source": [
        "text=(\n",
        "    \"hello, do you like the tea? <|endofthetext|> in sunlit terraces\"\n",
        "    \" of some unkown place\"\n",
        ")\n",
        "Integers=tokenizer.encode(text,allowed_special={\"<|endoftext|>\"})\n",
        "print(Integers)"
      ],
      "metadata": {
        "colab": {
          "base_uri": "https://localhost:8080/"
        },
        "id": "Nfp4D0SfAHov",
        "outputId": "ff6973b1-9968-42d6-920d-35e4f547930b"
      },
      "execution_count": 186,
      "outputs": [
        {
          "output_type": "stream",
          "name": "stdout",
          "text": [
            "[15339, 11, 656, 499, 1093, 279, 15600, 30, 83739, 408, 1073, 339, 295, 428, 91, 29, 304, 7160, 32735, 7317, 2492, 315, 1063, 65531, 785, 2035]\n"
          ]
        }
      ]
    },
    {
      "cell_type": "code",
      "source": [
        "strings=tokenizer.decode(Integers)\n",
        "print(strings)"
      ],
      "metadata": {
        "colab": {
          "base_uri": "https://localhost:8080/"
        },
        "id": "iJEvqv3i9rO-",
        "outputId": "2576fe56-b1c4-4ae0-c910-629e5d45ac81"
      },
      "execution_count": 187,
      "outputs": [
        {
          "output_type": "stream",
          "name": "stdout",
          "text": [
            "hello, do you like the tea? <|endofthetext|> in sunlit terraces of some unkown place\n"
          ]
        }
      ]
    },
    {
      "cell_type": "code",
      "source": [
        "Integers=tokenizer.encode(\"Riti21  ?iewr\")\n",
        "print(Integers)\n",
        "\n",
        "strings=tokenizer.decode(Integers)\n",
        "print(strings)"
      ],
      "metadata": {
        "colab": {
          "base_uri": "https://localhost:8080/"
        },
        "id": "WNlaYz4rA4tX",
        "outputId": "f36f5670-d483-4555-cc6a-bdb43e891934"
      },
      "execution_count": 196,
      "outputs": [
        {
          "output_type": "stream",
          "name": "stdout",
          "text": [
            "[49, 12583, 1691, 220, 949, 572, 81]\n",
            "Riti21  ?iewr\n"
          ]
        }
      ]
    }
  ]
}