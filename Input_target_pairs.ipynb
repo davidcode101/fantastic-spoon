{
  "nbformat": 4,
  "nbformat_minor": 0,
  "metadata": {
    "colab": {
      "provenance": [],
      "mount_file_id": "1yPaMsjfGb1dPZ-bWqLXmExUmLUhyJECm",
      "authorship_tag": "ABX9TyP+AewphQLCoaFXxRcMjpTh",
      "include_colab_link": true
    },
    "kernelspec": {
      "name": "python3",
      "display_name": "Python 3"
    },
    "language_info": {
      "name": "python"
    }
  },
  "cells": [
    {
      "cell_type": "markdown",
      "metadata": {
        "id": "view-in-github",
        "colab_type": "text"
      },
      "source": [
        "<a href=\"https://colab.research.google.com/github/davidcode101/fantastic-spoon/blob/main/Input_target_pairs.ipynb\" target=\"_parent\"><img src=\"https://colab.research.google.com/assets/colab-badge.svg\" alt=\"Open In Colab\"/></a>"
      ]
    },
    {
      "cell_type": "code",
      "source": [
        "import tiktoken\n",
        "# tokenizer=tiktoken.get_encoding(\"cl100k_base\")\n",
        "tokenizer=tiktoken.get_encoding(\"o200k_base\")\n",
        "# tokenizer=tiktoken.get_encoding(\"gpt2\") for comparing\n",
        "print(len(tokenizer._mergeable_ranks))"
      ],
      "metadata": {
        "colab": {
          "base_uri": "https://localhost:8080/"
        },
        "id": "yMxNbdIepfBl",
        "outputId": "f779a481-4010-490c-ee00-1c5c54f7ba33"
      },
      "execution_count": 27,
      "outputs": [
        {
          "output_type": "stream",
          "name": "stdout",
          "text": [
            "199998\n"
          ]
        }
      ]
    },
    {
      "cell_type": "code",
      "execution_count": 28,
      "metadata": {
        "id": "DcccJzUsOMLB",
        "colab": {
          "base_uri": "https://localhost:8080/"
        },
        "outputId": "e880e2da-80ea-4fdb-8753-55bfe1d1cf2d"
      },
      "outputs": [
        {
          "output_type": "stream",
          "name": "stdout",
          "text": [
            "60516\n"
          ]
        }
      ],
      "source": [
        "with open (\"/content/drive/MyDrive/Data for llm/TXT data/Kimi no Na wa [Yen Press].txt\",\"r\",encoding=\"utf-8\") as f:\n",
        "    raw_text = f.read()\n",
        "enc_text= tokenizer.encode(raw_text)\n",
        "print(len(enc_text))\n"
      ]
    },
    {
      "cell_type": "code",
      "source": [
        "enc_sample=enc_text[50:]"
      ],
      "metadata": {
        "id": "W-gzaWz_rewA"
      },
      "execution_count": 29,
      "outputs": []
    },
    {
      "cell_type": "code",
      "source": [
        "context_size=4\n",
        "x=enc_sample[:context_size]\n",
        "y=enc_sample[1:context_size+1]\n",
        "print(f\"x:{x}\")\n",
        "print(f\"y:{y}\")"
      ],
      "metadata": {
        "colab": {
          "base_uri": "https://localhost:8080/"
        },
        "id": "lOO7x39-rlHp",
        "outputId": "a1945794-ce8d-4511-e72f-4e496297daef"
      },
      "execution_count": 40,
      "outputs": [
        {
          "output_type": "stream",
          "name": "stdout",
          "text": [
            "x:[13, 623, 5030, 729]\n",
            "y:[623, 5030, 729, 17308]\n"
          ]
        }
      ]
    },
    {
      "cell_type": "code",
      "source": [
        "for i in range(1,context_size+1):\n",
        "  context=enc_sample[:i]\n",
        "  desried=enc_sample[i]\n",
        "\n",
        "  print(tokenizer.decode(context),\"---->\",tokenizer.decode([desried]))"
      ],
      "metadata": {
        "colab": {
          "base_uri": "https://localhost:8080/"
        },
        "id": "3RtTwpLfsxC6",
        "outputId": "1cb928c6-9ef9-49d3-f0e3-f7302705d43b"
      },
      "execution_count": 41,
      "outputs": [
        {
          "output_type": "stream",
          "name": "stdout",
          "text": [
            ". ---->  The\n",
            ". The ---->  city\n",
            ". The city ---->  te\n",
            ". The city te ----> ems\n"
          ]
        }
      ]
    },
    {
      "cell_type": "code",
      "source": [
        "import torch\n",
        "from torch.utils.data import Dataset,DataLoader\n",
        "class GptDatasetV1(Dataset):\n",
        "  def __init__(self,txt,tokenizer,max_length,stride):\n",
        "    self.input_ids=[]\n",
        "    self.target_ids=[]\n",
        "    #tokenizer\n",
        "    token_ids=tokenizer.encode(txt,allowed_special={\"<|endoftext|>\"})\n",
        "     #sliding window\n",
        "    for i in range(0,len(token_ids)-max_length,stride):\n",
        "      input_chunk=token_ids[i:i+max_length]\n",
        "      target_chunk=token_ids[i+1:i+max_length+1]\n",
        "      self.input_ids.append(torch.tensor(input_chunk))\n",
        "      self.target_ids.append(torch.tensor(target_chunk))\n",
        "  def __len__(self):\n",
        "    return len(self.input_ids)\n",
        "  def __getitem__(self,idx):\n",
        "    return self.input_ids[idx],self.target_ids[idx]"
      ],
      "metadata": {
        "id": "2sQjyo16tMgp"
      },
      "execution_count": 46,
      "outputs": []
    },
    {
      "cell_type": "code",
      "source": [
        "def create_dataloader_v1(txt,batch_size=4,max_length=256,stride=128,\n",
        "                         shuffle=True,drop_last=True,num_workers=0):\n",
        "     tokenizer=tiktoken.get_encoding(\"o200k_base\")\n",
        "     dataset=GptDatasetV1(txt,tokenizer,max_length,stride)\n",
        "     dataloader=DataLoader(dataset,batch_size=batch_size,shuffle=shuffle,drop_last=drop_last,num_workers=num_workers)\n",
        "     return dataloader"
      ],
      "metadata": {
        "id": "rmkn6PBd0Iio"
      },
      "execution_count": 43,
      "outputs": []
    },
    {
      "cell_type": "code",
      "source": [
        "with open (\"/content/drive/MyDrive/Data for llm/TXT data/Kimi no Na wa [Yen Press].txt\",\"r\",encoding=\"utf-8\") as f:\n",
        "    raw_text = f.read()"
      ],
      "metadata": {
        "id": "sMrEwsDn14kL"
      },
      "execution_count": 44,
      "outputs": []
    },
    {
      "cell_type": "code",
      "source": [
        "import torch\n",
        "print(\"Torch version\",torch.__version__)\n",
        "dataloader=create_dataloader_v1(\n",
        "    raw_text,batch_size=1,max_length=4,stride=1,\n",
        "    shuffle=False\n",
        ")\n",
        "data_iter=iter(dataloader)\n",
        "first_batch=next(data_iter)\n",
        "print(first_batch)"
      ],
      "metadata": {
        "colab": {
          "base_uri": "https://localhost:8080/"
        },
        "id": "Gz7EObd92CsA",
        "outputId": "09ba9b29-45df-41ca-f002-9888345a9997"
      },
      "execution_count": 47,
      "outputs": [
        {
          "output_type": "stream",
          "name": "stdout",
          "text": [
            "Torch version 2.8.0+cu126\n",
            "[tensor([[200, 200, 198, 200]]), tensor([[200, 198, 200, 200]])]\n"
          ]
        }
      ]
    },
    {
      "cell_type": "code",
      "source": [
        "second_batch=next(data_iter)\n",
        "print(second_batch)"
      ],
      "metadata": {
        "colab": {
          "base_uri": "https://localhost:8080/"
        },
        "id": "3Sk1Ilu_2nDc",
        "outputId": "4323ddd5-d5dd-49ed-e8cc-52a8687d8220"
      },
      "execution_count": 48,
      "outputs": [
        {
          "output_type": "stream",
          "name": "stdout",
          "text": [
            "[tensor([[200, 198, 200, 200]]), tensor([[  198,   200,   200, 45990]])]\n"
          ]
        }
      ]
    },
    {
      "cell_type": "code",
      "source": [
        "dataloader=create_dataloader_v1(\n",
        "    raw_text,batch_size=8,max_length=256,stride=4,\n",
        "    shuffle=False\n",
        ")\n",
        "data_iter=iter(dataloader)\n",
        "inputs,targets=next(data_iter)\n",
        "print(\"inputs:'\\n\",inputs)\n",
        "print(\"targets:'\\n\",targets)"
      ],
      "metadata": {
        "colab": {
          "base_uri": "https://localhost:8080/"
        },
        "id": "T6GVCX3W3rv0",
        "outputId": "249479e4-fc6b-4577-ac15-aadca35a2f63"
      },
      "execution_count": 53,
      "outputs": [
        {
          "output_type": "stream",
          "name": "stdout",
          "text": [
            "inputs:'\n",
            " tensor([[  200,   200,   198,  ..., 17659,   290,  9807],\n",
            "        [  200, 45990,  5108,  ...,   198,  3086, 37095],\n",
            "        [77558,   198,    32,  ..., 51088, 14255,   922],\n",
            "        ...,\n",
            "        [50564,   558,    40,  ...,  7504,  3543,  2715],\n",
            "        [34335,  4372,  5693,  ...,  4369,   200,    40],\n",
            "        [ 3582,   316,   668,  ...,  1573,  1761,   558]])\n",
            "targets:'\n",
            " tensor([[   200,    198,    200,  ...,    290,   9807,    326],\n",
            "        [ 45990,   5108,    279,  ...,   3086,  37095,    484],\n",
            "        [   198,     32, 132847,  ...,  14255,    922,   9623],\n",
            "        ...,\n",
            "        [   558,     40,   4572,  ...,   3543,   2715,  31946],\n",
            "        [  4372,   5693,   1869,  ...,    200,     40,   1700],\n",
            "        [   316,    668,     11,  ...,   1761,    558,     40]])\n"
          ]
        }
      ]
    },
    {
      "cell_type": "code",
      "source": [],
      "metadata": {
        "id": "z-9xnQ_t4e37"
      },
      "execution_count": null,
      "outputs": []
    }
  ]
}