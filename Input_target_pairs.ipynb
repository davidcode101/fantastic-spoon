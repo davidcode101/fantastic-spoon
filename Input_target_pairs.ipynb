{
  "nbformat": 4,
  "nbformat_minor": 0,
  "metadata": {
    "colab": {
      "provenance": [],
      "mount_file_id": "1yPaMsjfGb1dPZ-bWqLXmExUmLUhyJECm",
      "authorship_tag": "ABX9TyML6y8dyN4eDkoqb0A+cPYq",
      "include_colab_link": true
    },
    "kernelspec": {
      "name": "python3",
      "display_name": "Python 3"
    },
    "language_info": {
      "name": "python"
    }
  },
  "cells": [
    {
      "cell_type": "markdown",
      "metadata": {
        "id": "view-in-github",
        "colab_type": "text"
      },
      "source": [
        "<a href=\"https://colab.research.google.com/github/davidcode101/fantastic-spoon/blob/main/Input_target_pairs.ipynb\" target=\"_parent\"><img src=\"https://colab.research.google.com/assets/colab-badge.svg\" alt=\"Open In Colab\"/></a>"
      ]
    },
    {
      "cell_type": "code",
      "source": [
        "import tiktoken\n",
        "# tokenizer=tiktoken.get_encoding(\"cl100k_base\")\n",
        "tokenizer=tiktoken.get_encoding(\"o200k_base\")\n",
        "# tokenizer=tiktoken.get_encoding(\"gpt2\") for comparing\n",
        "print(len(tokenizer._mergeable_ranks))"
      ],
      "metadata": {
        "colab": {
          "base_uri": "https://localhost:8080/"
        },
        "id": "yMxNbdIepfBl",
        "outputId": "d0349956-4b45-4b96-d709-baa28da747cb"
      },
      "execution_count": 2,
      "outputs": [
        {
          "output_type": "stream",
          "name": "stdout",
          "text": [
            "199998\n"
          ]
        }
      ]
    },
    {
      "cell_type": "code",
      "execution_count": 3,
      "metadata": {
        "id": "DcccJzUsOMLB",
        "colab": {
          "base_uri": "https://localhost:8080/"
        },
        "outputId": "bd303e67-adf0-4985-cc58-611871b76e93"
      },
      "outputs": [
        {
          "output_type": "stream",
          "name": "stdout",
          "text": [
            "60516\n"
          ]
        }
      ],
      "source": [
        "with open (\"/content/drive/MyDrive/Data for llm/TXT data/Kimi no Na wa [Yen Press].txt\",\"r\",encoding=\"utf-8\") as f:\n",
        "    raw_text = f.read()\n",
        "enc_text= tokenizer.encode(raw_text)\n",
        "print(len(enc_text))\n"
      ]
    },
    {
      "cell_type": "code",
      "source": [
        "enc_sample=enc_text[50:]"
      ],
      "metadata": {
        "id": "W-gzaWz_rewA"
      },
      "execution_count": 4,
      "outputs": []
    },
    {
      "cell_type": "code",
      "source": [
        "context_size=4\n",
        "x=enc_sample[:context_size]\n",
        "y=enc_sample[1:context_size+1]\n",
        "print(f\"x:{x}\")\n",
        "print(f\"y:{y}\")"
      ],
      "metadata": {
        "colab": {
          "base_uri": "https://localhost:8080/"
        },
        "id": "lOO7x39-rlHp",
        "outputId": "7258c4b4-9596-4b70-ce4d-ffa3f631c40b"
      },
      "execution_count": 5,
      "outputs": [
        {
          "output_type": "stream",
          "name": "stdout",
          "text": [
            "x:[6787, 198, 90172, 70453]\n",
            "y:[198, 90172, 70453, 13]\n"
          ]
        }
      ]
    },
    {
      "cell_type": "code",
      "source": [
        "for i in range(1,context_size+1):\n",
        "  context=enc_sample[:i]\n",
        "  desried=enc_sample[i]\n",
        "\n",
        "  print(tokenizer.decode(context),\"---->\",tokenizer.decode([desried]))"
      ],
      "metadata": {
        "colab": {
          "base_uri": "https://localhost:8080/"
        },
        "id": "3RtTwpLfsxC6",
        "outputId": "18ef1c4f-20cb-4fa8-f9b3-5391eab90ddb"
      },
      "execution_count": 6,
      "outputs": [
        {
          "output_type": "stream",
          "name": "stdout",
          "text": [
            " almost ----> \n",
            "\n",
            " almost\n",
            " ----> inse\n",
            " almost\n",
            "inse ----> parable\n",
            " almost\n",
            "inseparable ----> .\n"
          ]
        }
      ]
    },
    {
      "cell_type": "code",
      "source": [
        "import torch\n",
        "from torch.utils.data import Dataset,DataLoader\n",
        "class GptDatasetV1(Dataset):\n",
        "  def __init__(self,txt,tokenizer,max_length,stride):\n",
        "    self.input_ids=[]\n",
        "    self.target_ids=[]\n",
        "    #tokenizer\n",
        "    token_ids=tokenizer.encode(txt,allowed_special={\"<|endoftext|>\"})\n",
        "     #sliding window\n",
        "    for i in range(0,len(token_ids)-max_length,stride):\n",
        "      input_chunk=token_ids[i:i+max_length]\n",
        "      target_chunk=token_ids[i+1:i+max_length+1]\n",
        "      self.input_ids.append(torch.tensor(input_chunk))\n",
        "      self.target_ids.append(torch.tensor(target_chunk))\n",
        "  def __len__(self):\n",
        "    return len(self.input_ids)\n",
        "  def __getitem__(self,idx):\n",
        "    return self.input_ids[idx],self.target_ids[idx]"
      ],
      "metadata": {
        "id": "2sQjyo16tMgp"
      },
      "execution_count": 7,
      "outputs": []
    },
    {
      "cell_type": "code",
      "source": [
        "def create_dataloader_v1(txt,batch_size=4,max_length=256,stride=128,\n",
        "                         shuffle=True,drop_last=True,num_workers=0):\n",
        "     tokenizer=tiktoken.get_encoding(\"o200k_base\")\n",
        "     dataset=GptDatasetV1(txt,tokenizer,max_length,stride)\n",
        "     dataloader=DataLoader(dataset,batch_size=batch_size,shuffle=shuffle,drop_last=drop_last,num_workers=num_workers)\n",
        "     return dataloader"
      ],
      "metadata": {
        "id": "rmkn6PBd0Iio"
      },
      "execution_count": 8,
      "outputs": []
    },
    {
      "cell_type": "code",
      "source": [
        "with open (\"/content/drive/MyDrive/Data for llm/TXT data/Kimi no Na wa [Yen Press].txt\",\"r\",encoding=\"utf-8\") as f:\n",
        "    raw_text = f.read()"
      ],
      "metadata": {
        "id": "sMrEwsDn14kL"
      },
      "execution_count": 9,
      "outputs": []
    },
    {
      "cell_type": "code",
      "source": [
        "import torch\n",
        "print(\"Torch version\",torch.__version__)\n",
        "dataloader=create_dataloader_v1(\n",
        "    raw_text,batch_size=1,max_length=4,stride=1,\n",
        "    shuffle=False\n",
        ")\n",
        "data_iter=iter(dataloader)\n",
        "first_batch=next(data_iter)\n",
        "print(first_batch)"
      ],
      "metadata": {
        "colab": {
          "base_uri": "https://localhost:8080/"
        },
        "id": "Gz7EObd92CsA",
        "outputId": "d1d6a1be-ef2a-4bff-9f81-650aeb7e9d20"
      },
      "execution_count": 10,
      "outputs": [
        {
          "output_type": "stream",
          "name": "stdout",
          "text": [
            "Torch version 2.8.0+cu126\n",
            "[tensor([[200, 200, 198, 200]]), tensor([[200, 198, 200, 200]])]\n"
          ]
        }
      ]
    },
    {
      "cell_type": "code",
      "source": [
        "second_batch=next(data_iter)\n",
        "print(second_batch)"
      ],
      "metadata": {
        "colab": {
          "base_uri": "https://localhost:8080/"
        },
        "id": "3Sk1Ilu_2nDc",
        "outputId": "4ee8b481-c5da-4cee-b08f-d53d225c3866"
      },
      "execution_count": 11,
      "outputs": [
        {
          "output_type": "stream",
          "name": "stdout",
          "text": [
            "[tensor([[200, 198, 200, 200]]), tensor([[  198,   200,   200, 45990]])]\n"
          ]
        }
      ]
    },
    {
      "cell_type": "code",
      "source": [
        "dataloader=create_dataloader_v1(\n",
        "    raw_text,batch_size=8,max_length=256,stride=4,\n",
        "    shuffle=False\n",
        ")\n",
        "data_iter=iter(dataloader)\n",
        "inputs,targets=next(data_iter)\n",
        "print(\"inputs:'\\n\",inputs)\n",
        "print(\"targets:'\\n\",targets)"
      ],
      "metadata": {
        "colab": {
          "base_uri": "https://localhost:8080/"
        },
        "id": "T6GVCX3W3rv0",
        "outputId": "4bd9cfd5-57c4-4cc3-fa8d-aaaf08db15dc"
      },
      "execution_count": 12,
      "outputs": [
        {
          "output_type": "stream",
          "name": "stdout",
          "text": [
            "inputs:'\n",
            " tensor([[  200,   200,   198,  ..., 17659,   290,  9807],\n",
            "        [  200, 45990,  5108,  ...,   198,  3086, 37095],\n",
            "        [77558,   198,    32,  ..., 51088, 14255,   922],\n",
            "        ...,\n",
            "        [50564,   558,    40,  ...,  7504,  3543,  2715],\n",
            "        [34335,  4372,  5693,  ...,  4369,   200,    40],\n",
            "        [ 3582,   316,   668,  ...,  1573,  1761,   558]])\n",
            "targets:'\n",
            " tensor([[   200,    198,    200,  ...,    290,   9807,    326],\n",
            "        [ 45990,   5108,    279,  ...,   3086,  37095,    484],\n",
            "        [   198,     32, 132847,  ...,  14255,    922,   9623],\n",
            "        ...,\n",
            "        [   558,     40,   4572,  ...,   3543,   2715,  31946],\n",
            "        [  4372,   5693,   1869,  ...,    200,     40,   1700],\n",
            "        [   316,    668,     11,  ...,   1761,    558,     40]])\n"
          ]
        }
      ]
    },
    {
      "cell_type": "code",
      "source": [
        "input_ids= torch.tensor([2,3,5,1])"
      ],
      "metadata": {
        "id": "z-9xnQ_t4e37"
      },
      "execution_count": 15,
      "outputs": []
    },
    {
      "cell_type": "code",
      "source": [
        "vocab_size=6\n",
        "output_dim=3\n",
        "torch.manual_seed(123)\n",
        "embedding_layer=torch.nn.Embedding(vocab_size,output_dim)\n"
      ],
      "metadata": {
        "id": "M7tEUte6509y"
      },
      "execution_count": 17,
      "outputs": []
    },
    {
      "cell_type": "code",
      "source": [
        "print(embedding_layer.weight)"
      ],
      "metadata": {
        "colab": {
          "base_uri": "https://localhost:8080/"
        },
        "id": "-VIX1wPR6PA_",
        "outputId": "e52c32b9-3ee2-4217-bbd7-60097925e926"
      },
      "execution_count": 21,
      "outputs": [
        {
          "output_type": "stream",
          "name": "stdout",
          "text": [
            "Parameter containing:\n",
            "tensor([[ 0.3374, -0.1778, -0.1690],\n",
            "        [ 0.9178,  1.5810,  1.3010],\n",
            "        [ 1.2753, -0.2010, -0.1606],\n",
            "        [-0.4015,  0.9666, -1.1481],\n",
            "        [-1.1589,  0.3255, -0.6315],\n",
            "        [-2.8400, -0.7849, -1.4096]], requires_grad=True)\n"
          ]
        }
      ]
    },
    {
      "cell_type": "code",
      "source": [
        "print(embedding_layer(torch.tensor([3])))"
      ],
      "metadata": {
        "colab": {
          "base_uri": "https://localhost:8080/"
        },
        "id": "GjyEd1Yd6eV2",
        "outputId": "d7d178d7-baa2-4045-a0dc-af172ff6cbe6"
      },
      "execution_count": 20,
      "outputs": [
        {
          "output_type": "stream",
          "name": "stdout",
          "text": [
            "tensor([[-0.4015,  0.9666, -1.1481]], grad_fn=<EmbeddingBackward0>)\n"
          ]
        }
      ]
    },
    {
      "cell_type": "code",
      "source": [
        "print(embedding_layer(input_ids))"
      ],
      "metadata": {
        "colab": {
          "base_uri": "https://localhost:8080/"
        },
        "id": "9F9Yqx6a66RK",
        "outputId": "36d5137e-18bf-43b6-b7be-e63bf234116e"
      },
      "execution_count": 22,
      "outputs": [
        {
          "output_type": "stream",
          "name": "stdout",
          "text": [
            "tensor([[ 1.2753, -0.2010, -0.1606],\n",
            "        [-0.4015,  0.9666, -1.1481],\n",
            "        [-2.8400, -0.7849, -1.4096],\n",
            "        [ 0.9178,  1.5810,  1.3010]], grad_fn=<EmbeddingBackward0>)\n"
          ]
        }
      ]
    },
    {
      "cell_type": "code",
      "source": [
        ""
      ],
      "metadata": {
        "id": "TBepbL5a79YO"
      },
      "execution_count": null,
      "outputs": []
    }
  ]
}